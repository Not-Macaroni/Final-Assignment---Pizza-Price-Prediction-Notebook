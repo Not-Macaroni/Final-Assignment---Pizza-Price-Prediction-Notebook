{
 "cells": [
  {
   "cell_type": "markdown",
   "id": "a7a95a65",
   "metadata": {},
   "source": [
    "# Task 1: Look at the big picture and frame the problem."
   ]
  },
  {
   "cell_type": "markdown",
   "id": "9f7de804",
   "metadata": {},
   "source": [
    "## Frame the problem:"
   ]
  },
  {
   "cell_type": "markdown",
   "id": "4cc35284",
   "metadata": {},
   "source": [
    "1. Supervised learning – training examples are labeled (with pizza sales prices).\n",
    "2. A regression task – predict a numerical value (the sales price of a pizza).\n",
    "3. Batch learning\n",
    "    - Small data set\n",
    "    - No continuous flow of data coming into the system\n",
    "    - No need to adjust to changing data rapidly"
   ]
  },
  {
   "cell_type": "markdown",
   "id": "05f3cd62",
   "metadata": {},
   "source": [
    "## Looking at the bigger picture:"
   ]
  },
  {
   "cell_type": "markdown",
   "id": "0346b7eb",
   "metadata": {},
   "source": [
    "### Dataset Description\n",
    "\n",
    " 1. Unnamed: 0 - ID used to track the index of a data instance (numerical: 1 to 49574)\n",
    " 2. id - unique sales ID for each pizza order used to differentiate between different pizza orders (nominal: e.g “2015-000005”)\n",
    " 3. date - the date that the pizza was sold (nominal: a string representing a date e.g. “2015-01-01”)\n",
    " 4. time - the time the pizza was sold at (nominal: a string representing a time e.g. “12:21:30”)\n",
    " 5. name - the abbreviated name of the pizza on the menu (nominal: e.g. “classic_dlx”)\n",
    " 6. size - the size of the pizza (nominal: “S”, “M”, “L”, “XL”, or “XXL”)\n",
    " 7. type - the type of pizza based on its main ingredients (nominal: “classic”, “veggie”, “chicken”, or “supreme”)\n",
    " 8. price - the price of the pizza (numerical: 9.75 to 35.95, target value/what our models will be trying to predict)\n",
    "\n",
    "Missing Values: This dataset has no missing values.\n",
    "Duplicate Values: This dataset contains 954 duplicate values."
   ]
  },
  {
   "cell_type": "markdown",
   "id": "de03b9d0",
   "metadata": {},
   "source": [
    "### Task: To predict the sales trends of pizza."
   ]
  },
  {
   "cell_type": "markdown",
   "id": "50ec6eef",
   "metadata": {},
   "source": [
    "This can be used by pizza restaurants to aid them in understanding what the customer is willing to pay and can help them price their menu offerings more appropriately. Also helps to increase their profit by improving their menu options and prices."
   ]
  },
  {
   "cell_type": "markdown",
   "id": "500ac9ee",
   "metadata": {},
   "source": [
    "# Task 2: Load the Dataset"
   ]
  },
  {
   "cell_type": "code",
   "execution_count": 1,
   "id": "ba07126e",
   "metadata": {},
   "outputs": [],
   "source": [
    "# Import libraries\n",
    "\n",
    "import sklearn\n",
    "import numpy as np\n",
    "import pandas as pd\n",
    "import matplotlib.pyplot as plt\n",
    "import seaborn as sns"
   ]
  },
  {
   "cell_type": "code",
   "execution_count": 2,
   "id": "2d4c9b97",
   "metadata": {},
   "outputs": [],
   "source": [
    "# Load the data from our github repository\n",
    "\n",
    "url = \"https://raw.githubusercontent.com/Not-Macaroni/Final-Project-Dataset---Pizza-Sales/main/pizzaplace.csv\"\n",
    "pizza = pd.read_csv(url, sep=',')"
   ]
  },
  {
   "cell_type": "markdown",
   "id": "fa1ec524",
   "metadata": {},
   "source": [
    "# Task 3: Perform EDA on the dataset"
   ]
  },
  {
   "cell_type": "markdown",
   "id": "73ad99d3",
   "metadata": {},
   "source": [
    "### Take a quick look at the data set."
   ]
  },
  {
   "cell_type": "code",
   "execution_count": 3,
   "id": "37e3f9b2",
   "metadata": {
    "scrolled": true
   },
   "outputs": [
    {
     "data": {
      "text/html": [
       "<div>\n",
       "<style scoped>\n",
       "    .dataframe tbody tr th:only-of-type {\n",
       "        vertical-align: middle;\n",
       "    }\n",
       "\n",
       "    .dataframe tbody tr th {\n",
       "        vertical-align: top;\n",
       "    }\n",
       "\n",
       "    .dataframe thead th {\n",
       "        text-align: right;\n",
       "    }\n",
       "</style>\n",
       "<table border=\"1\" class=\"dataframe\">\n",
       "  <thead>\n",
       "    <tr style=\"text-align: right;\">\n",
       "      <th></th>\n",
       "      <th>Unnamed: 0</th>\n",
       "      <th>id</th>\n",
       "      <th>date</th>\n",
       "      <th>time</th>\n",
       "      <th>name</th>\n",
       "      <th>size</th>\n",
       "      <th>type</th>\n",
       "      <th>price</th>\n",
       "    </tr>\n",
       "  </thead>\n",
       "  <tbody>\n",
       "    <tr>\n",
       "      <th>0</th>\n",
       "      <td>1</td>\n",
       "      <td>2015-000001</td>\n",
       "      <td>2015-01-01</td>\n",
       "      <td>11:38:36</td>\n",
       "      <td>hawaiian</td>\n",
       "      <td>M</td>\n",
       "      <td>classic</td>\n",
       "      <td>13.25</td>\n",
       "    </tr>\n",
       "    <tr>\n",
       "      <th>1</th>\n",
       "      <td>2</td>\n",
       "      <td>2015-000002</td>\n",
       "      <td>2015-01-01</td>\n",
       "      <td>11:57:40</td>\n",
       "      <td>classic_dlx</td>\n",
       "      <td>M</td>\n",
       "      <td>classic</td>\n",
       "      <td>16.00</td>\n",
       "    </tr>\n",
       "    <tr>\n",
       "      <th>2</th>\n",
       "      <td>3</td>\n",
       "      <td>2015-000002</td>\n",
       "      <td>2015-01-01</td>\n",
       "      <td>11:57:40</td>\n",
       "      <td>mexicana</td>\n",
       "      <td>M</td>\n",
       "      <td>veggie</td>\n",
       "      <td>16.00</td>\n",
       "    </tr>\n",
       "    <tr>\n",
       "      <th>3</th>\n",
       "      <td>4</td>\n",
       "      <td>2015-000002</td>\n",
       "      <td>2015-01-01</td>\n",
       "      <td>11:57:40</td>\n",
       "      <td>thai_ckn</td>\n",
       "      <td>L</td>\n",
       "      <td>chicken</td>\n",
       "      <td>20.75</td>\n",
       "    </tr>\n",
       "    <tr>\n",
       "      <th>4</th>\n",
       "      <td>5</td>\n",
       "      <td>2015-000002</td>\n",
       "      <td>2015-01-01</td>\n",
       "      <td>11:57:40</td>\n",
       "      <td>five_cheese</td>\n",
       "      <td>L</td>\n",
       "      <td>veggie</td>\n",
       "      <td>18.50</td>\n",
       "    </tr>\n",
       "    <tr>\n",
       "      <th>...</th>\n",
       "      <td>...</td>\n",
       "      <td>...</td>\n",
       "      <td>...</td>\n",
       "      <td>...</td>\n",
       "      <td>...</td>\n",
       "      <td>...</td>\n",
       "      <td>...</td>\n",
       "      <td>...</td>\n",
       "    </tr>\n",
       "    <tr>\n",
       "      <th>49569</th>\n",
       "      <td>49570</td>\n",
       "      <td>2015-021348</td>\n",
       "      <td>2015-12-31</td>\n",
       "      <td>21:23:10</td>\n",
       "      <td>four_cheese</td>\n",
       "      <td>L</td>\n",
       "      <td>veggie</td>\n",
       "      <td>17.95</td>\n",
       "    </tr>\n",
       "    <tr>\n",
       "      <th>49570</th>\n",
       "      <td>49571</td>\n",
       "      <td>2015-021348</td>\n",
       "      <td>2015-12-31</td>\n",
       "      <td>21:23:10</td>\n",
       "      <td>napolitana</td>\n",
       "      <td>S</td>\n",
       "      <td>classic</td>\n",
       "      <td>12.00</td>\n",
       "    </tr>\n",
       "    <tr>\n",
       "      <th>49571</th>\n",
       "      <td>49572</td>\n",
       "      <td>2015-021348</td>\n",
       "      <td>2015-12-31</td>\n",
       "      <td>21:23:10</td>\n",
       "      <td>ckn_alfredo</td>\n",
       "      <td>M</td>\n",
       "      <td>chicken</td>\n",
       "      <td>16.75</td>\n",
       "    </tr>\n",
       "    <tr>\n",
       "      <th>49572</th>\n",
       "      <td>49573</td>\n",
       "      <td>2015-021349</td>\n",
       "      <td>2015-12-31</td>\n",
       "      <td>22:09:54</td>\n",
       "      <td>mexicana</td>\n",
       "      <td>L</td>\n",
       "      <td>veggie</td>\n",
       "      <td>20.25</td>\n",
       "    </tr>\n",
       "    <tr>\n",
       "      <th>49573</th>\n",
       "      <td>49574</td>\n",
       "      <td>2015-021350</td>\n",
       "      <td>2015-12-31</td>\n",
       "      <td>23:02:05</td>\n",
       "      <td>bbq_ckn</td>\n",
       "      <td>S</td>\n",
       "      <td>chicken</td>\n",
       "      <td>12.75</td>\n",
       "    </tr>\n",
       "  </tbody>\n",
       "</table>\n",
       "<p>49574 rows × 8 columns</p>\n",
       "</div>"
      ],
      "text/plain": [
       "       Unnamed: 0           id        date      time         name size  \\\n",
       "0               1  2015-000001  2015-01-01  11:38:36     hawaiian    M   \n",
       "1               2  2015-000002  2015-01-01  11:57:40  classic_dlx    M   \n",
       "2               3  2015-000002  2015-01-01  11:57:40     mexicana    M   \n",
       "3               4  2015-000002  2015-01-01  11:57:40     thai_ckn    L   \n",
       "4               5  2015-000002  2015-01-01  11:57:40  five_cheese    L   \n",
       "...           ...          ...         ...       ...          ...  ...   \n",
       "49569       49570  2015-021348  2015-12-31  21:23:10  four_cheese    L   \n",
       "49570       49571  2015-021348  2015-12-31  21:23:10   napolitana    S   \n",
       "49571       49572  2015-021348  2015-12-31  21:23:10  ckn_alfredo    M   \n",
       "49572       49573  2015-021349  2015-12-31  22:09:54     mexicana    L   \n",
       "49573       49574  2015-021350  2015-12-31  23:02:05      bbq_ckn    S   \n",
       "\n",
       "          type  price  \n",
       "0      classic  13.25  \n",
       "1      classic  16.00  \n",
       "2       veggie  16.00  \n",
       "3      chicken  20.75  \n",
       "4       veggie  18.50  \n",
       "...        ...    ...  \n",
       "49569   veggie  17.95  \n",
       "49570  classic  12.00  \n",
       "49571  chicken  16.75  \n",
       "49572   veggie  20.25  \n",
       "49573  chicken  12.75  \n",
       "\n",
       "[49574 rows x 8 columns]"
      ]
     },
     "execution_count": 3,
     "metadata": {},
     "output_type": "execute_result"
    }
   ],
   "source": [
    "# Here we want to take a quick look at the first and last 5 rows in the dataset\n",
    "# This helps us to get a better understanding of the dataset structure, data types present, and the purpose of each column\n",
    "\n",
    "# From here we can identify that our target column is price\n",
    "# Also there is additional column named \"Unnamed: 0\" which acts as an index\n",
    "# this index column is unneeded since this dataset is already index when we load it, so we will remove this column\n",
    "\n",
    "pizza"
   ]
  },
  {
   "cell_type": "code",
   "execution_count": 4,
   "id": "73e632b6",
   "metadata": {},
   "outputs": [],
   "source": [
    "# We drop the \"Unnamed: 0\" since the data is already indexed and\n",
    "# we do not want this additional column to effect training and testing later on\n",
    "\n",
    "pizza.drop('Unnamed: 0', axis=1, inplace=True)"
   ]
  },
  {
   "cell_type": "code",
   "execution_count": 5,
   "id": "6b3d1f3b",
   "metadata": {},
   "outputs": [
    {
     "data": {
      "text/html": [
       "<div>\n",
       "<style scoped>\n",
       "    .dataframe tbody tr th:only-of-type {\n",
       "        vertical-align: middle;\n",
       "    }\n",
       "\n",
       "    .dataframe tbody tr th {\n",
       "        vertical-align: top;\n",
       "    }\n",
       "\n",
       "    .dataframe thead th {\n",
       "        text-align: right;\n",
       "    }\n",
       "</style>\n",
       "<table border=\"1\" class=\"dataframe\">\n",
       "  <thead>\n",
       "    <tr style=\"text-align: right;\">\n",
       "      <th></th>\n",
       "      <th>price</th>\n",
       "    </tr>\n",
       "  </thead>\n",
       "  <tbody>\n",
       "    <tr>\n",
       "      <th>count</th>\n",
       "      <td>49574.000000</td>\n",
       "    </tr>\n",
       "    <tr>\n",
       "      <th>mean</th>\n",
       "      <td>16.497762</td>\n",
       "    </tr>\n",
       "    <tr>\n",
       "      <th>std</th>\n",
       "      <td>3.621954</td>\n",
       "    </tr>\n",
       "    <tr>\n",
       "      <th>min</th>\n",
       "      <td>9.750000</td>\n",
       "    </tr>\n",
       "    <tr>\n",
       "      <th>25%</th>\n",
       "      <td>12.750000</td>\n",
       "    </tr>\n",
       "    <tr>\n",
       "      <th>50%</th>\n",
       "      <td>16.500000</td>\n",
       "    </tr>\n",
       "    <tr>\n",
       "      <th>75%</th>\n",
       "      <td>20.250000</td>\n",
       "    </tr>\n",
       "    <tr>\n",
       "      <th>max</th>\n",
       "      <td>35.950000</td>\n",
       "    </tr>\n",
       "  </tbody>\n",
       "</table>\n",
       "</div>"
      ],
      "text/plain": [
       "              price\n",
       "count  49574.000000\n",
       "mean      16.497762\n",
       "std        3.621954\n",
       "min        9.750000\n",
       "25%       12.750000\n",
       "50%       16.500000\n",
       "75%       20.250000\n",
       "max       35.950000"
      ]
     },
     "execution_count": 5,
     "metadata": {},
     "output_type": "execute_result"
    }
   ],
   "source": [
    "# Here we just take a quick look at the numerical attributes of the date\n",
    "\n",
    "pizza.describe()"
   ]
  },
  {
   "cell_type": "markdown",
   "id": "1adc1e11",
   "metadata": {},
   "source": [
    "### Data Visualization"
   ]
  },
  {
   "cell_type": "code",
   "execution_count": 6,
   "id": "fe51c351",
   "metadata": {},
   "outputs": [
    {
     "data": {
      "image/png": "[encoded data removed]",
      "text/plain": [
       "<Figure size 1600x800 with 1 Axes>"
      ]
     },
     "metadata": {},
     "output_type": "display_data"
    }
   ],
   "source": [
    "# This creates a histogram that shows up the numbers of pizzas sold by price\n",
    "\n",
    "pizza.hist(figsize=(16, 8))\n",
    "plt.title('Price vs Pizzas Sold')\n",
    "plt.xlabel('Price')\n",
    "plt.ylabel('Number of Pizzas Sold')\n",
    "plt.show()"
   ]
  },
  {
   "cell_type": "markdown",
   "id": "b9dc7e28",
   "metadata": {},
   "source": [
    "This histogram shows us the number of pizzas sold by price. From this, we can gain the following insights:\n",
    "   1. The three most common prices for pizza\n",
    "   2. The three least common prices for pizza\n",
    "   3. The maximum and minimum prices paid for pizza\n",
    "   \n",
    "These could all be further explored by looking at other relationships with price and specific pizza attributes to get a better understanding of what determines pizza prices."
   ]
  },
  {
   "cell_type": "code",
   "execution_count": 7,
   "id": "b6009f74",
   "metadata": {},
   "outputs": [
    {
     "data": {
      "image/png": "[encoded data removed]",
      "text/plain": [
       "<Figure size 640x480 with 1 Axes>"
      ]
     },
     "metadata": {},
     "output_type": "display_data"
    }
   ],
   "source": [
    "# This creates a point plot chart which shows up the realtionship between price and pizza size\n",
    "\n",
    "SizevsPrice = sns.pointplot(x=\"size\", y=\"price\", order=['S', 'M', 'L', 'XL', 'XXL'], data=pizza)"
   ]
  },
  {
   "cell_type": "markdown",
   "id": "e1235488",
   "metadata": {},
   "source": [
    "This point plot shows us the relationship between the price of a pizza and that pizza's size.\n",
    "\n",
    "As we can see the price of the pizza increases with the size of the pizza. This demonstrates a positive correlation between pizza price and pizza size.\n",
    "\n",
    "Additionally, since we have price as our dependent variable and size as our independent variable we can see that price is partially dependent on price."
   ]
  },
  {
   "cell_type": "code",
   "execution_count": 8,
   "id": "91e0c6cd",
   "metadata": {},
   "outputs": [
    {
     "data": {
      "image/png": "[encoded data removed]",
      "text/plain": [
       "<Figure size 640x480 with 1 Axes>"
      ]
     },
     "metadata": {},
     "output_type": "display_data"
    }
   ],
   "source": [
    "# This boxplot shows us the range of prices for different types of pizzas\n",
    "\n",
    "TypevsPrice = sns.boxplot(x=\"type\", y=\"price\", data=pizza)"
   ]
  },
  {
   "cell_type": "markdown",
   "id": "d9e7cb19",
   "metadata": {},
   "source": [
    "This boxplot shows us the relationship between price and pizza type, as well as the range of prices for each type of pizza.\n",
    "\n",
    "As we can see the price varies based on type with some being more expensive than others, likely due to the ingredients used. Pizzas that don't contain meat have a higher price range than those that do.\n",
    "\n",
    "Furthermore, we can see that the price of a pizza generally falls into a specific range based on its type. "
   ]
  },
  {
   "cell_type": "markdown",
   "id": "0abd5ff3",
   "metadata": {},
   "source": [
    "# Task 4: Prepare the data for modelling"
   ]
  },
  {
   "cell_type": "markdown",
   "id": "706e984d",
   "metadata": {},
   "source": [
    "### Find and remove duplicate data entries\n",
    "\n",
    "Since all pizza orders have a unique ID we don't have to worry about removing entries that share the same pizza name, type, price, date, and delivery time but were separate/different orders."
   ]
  },
  {
   "cell_type": "code",
   "execution_count": 9,
   "id": "22ae2af2",
   "metadata": {},
   "outputs": [
    {
     "name": "stdout",
     "output_type": "stream",
     "text": [
      "Number of duplicate records: 954\n",
      "--------------------------------\n",
      "Before: (49574, 7)\n",
      "After: (48620, 7)\n"
     ]
    }
   ],
   "source": [
    "# Here we find and count the number of duplicate data entries\n",
    "print(f\"Number of duplicate records: {+pizza.duplicated().sum()}\")\n",
    "print(\"--------------------------------\")\n",
    "\n",
    "# This shows the shape/number of data entries before we remove the duplicates\n",
    "print(f\"Before: {pizza.shape}\")\n",
    "\n",
    "# Here we remove the duplicates\n",
    "pizza.drop_duplicates(inplace=True)\n",
    "\n",
    "# This shows the shape/number of data entries after we remove the duplicates\n",
    "# As we can see the 954 duplicate records have been removed\n",
    "print(f\"After: {pizza.shape}\")"
   ]
  },
  {
   "cell_type": "markdown",
   "id": "93b67893",
   "metadata": {},
   "source": [
    "### Look for missing values"
   ]
  },
  {
   "cell_type": "code",
   "execution_count": 10,
   "id": "9f793cde",
   "metadata": {},
   "outputs": [
    {
     "name": "stdout",
     "output_type": "stream",
     "text": [
      "id       0\n",
      "date     0\n",
      "time     0\n",
      "name     0\n",
      "size     0\n",
      "type     0\n",
      "price    0\n",
      "dtype: int64\n"
     ]
    }
   ],
   "source": [
    "# This snippet of code is from section 4.2 in the end-to-end student notebook posted on eclass \n",
    "# and was written by Professor Ruba Al Omari\n",
    "\n",
    "# Find and count all the '?' values in the dataset\n",
    "(pizza.values == '?').sum()\n",
    "\n",
    "# Replace all '?' values is NaN\n",
    "pizza = pizza.replace('?', np.nan)\n",
    "\n",
    "# Count all NaN values in the dataset\n",
    "pizza.isna().sum()\n",
    "\n",
    "# Get a quick description of the data after replacing all the '?' value.\n",
    "print(pizza.isna().sum())"
   ]
  },
  {
   "cell_type": "markdown",
   "id": "b6dff688",
   "metadata": {},
   "source": [
    "As we can see above this dataset does not contain any missing values in any of the columns."
   ]
  },
  {
   "cell_type": "markdown",
   "id": "eca510a1",
   "metadata": {},
   "source": [
    "### Binning the time column\n",
    "\n",
    "The time column shows the delivery time of a pizza down to a second. This high variation does not help us with predicting the cost of a pizza so we want to bin these values into specific time intervals so that they are more useful for predictions and training the model.\n",
    "\n",
    "We chose to break the day down into 3-hour intervals (i.e. 0:00 - 3:00, 3:00 - 6:00, ..., 21:00 - 0:00). By using intervals we can get a better estimation of the general times when people order pizza. We can see if there is a high influx of people ordering around lunch or dinner, and if ordering around these high-demand times leads to an increase in the cost of pizza."
   ]
  },
  {
   "cell_type": "code",
   "execution_count": 11,
   "id": "d3bea08c",
   "metadata": {},
   "outputs": [
    {
     "name": "stdout",
     "output_type": "stream",
     "text": [
      "                id        date         time         name size     type  price\n",
      "0      2015-000001  2015-01-01  09:00-12:00     hawaiian    M  classic  13.25\n",
      "1      2015-000002  2015-01-01  09:00-12:00  classic_dlx    M  classic  16.00\n",
      "2      2015-000002  2015-01-01  09:00-12:00     mexicana    M   veggie  16.00\n",
      "3      2015-000002  2015-01-01  09:00-12:00     thai_ckn    L  chicken  20.75\n",
      "4      2015-000002  2015-01-01  09:00-12:00  five_cheese    L   veggie  18.50\n",
      "...            ...         ...          ...          ...  ...      ...    ...\n",
      "49569  2015-021348  2015-12-31  21:00-00:00  four_cheese    L   veggie  17.95\n",
      "49570  2015-021348  2015-12-31  21:00-00:00   napolitana    S  classic  12.00\n",
      "49571  2015-021348  2015-12-31  21:00-00:00  ckn_alfredo    M  chicken  16.75\n",
      "49572  2015-021349  2015-12-31  21:00-00:00     mexicana    L   veggie  20.25\n",
      "49573  2015-021350  2015-12-31  21:00-00:00      bbq_ckn    S  chicken  12.75\n",
      "\n",
      "[48620 rows x 7 columns]\n"
     ]
    }
   ],
   "source": [
    "# Create our bins\n",
    "# We set the start time to '0 hours' for midnight\n",
    "# We specify the end of the day as '24 hours'\n",
    "# We set our intervals for every 3 hours\n",
    "bins = pd.interval_range(start=pd.to_timedelta('0 hours'), end=pd.to_timedelta('24 hours'), freq='3H')\n",
    "\n",
    "# Here we replace the values for delivery time with our new binned time intervals\n",
    "# We use the cut function to create and apply our bins that we created earlier\n",
    "# We use the apply method to format the time values so that they only show us the time and not the date\n",
    "pizza['time'] = pd.cut(pizza['time'], bins=bins).apply(lambda x: f\"{x.left.components.hours:02d}:00-{x.right.components.hours:02d}:00\")\n",
    "\n",
    "# Show the dataset with the new time values\n",
    "print(pizza)"
   ]
  },
  {
   "cell_type": "markdown",
   "id": "d7da3217",
   "metadata": {},
   "source": [
    "### Drop the ID Column\n",
    "\n",
    "Ultimately, this column does not help with predicting the price because every value is unique. Additionally, the high degree of variation causes the dataset to exceed the memory limits after being run through the pre-processing pipeline."
   ]
  },
  {
   "cell_type": "code",
   "execution_count": 12,
   "id": "eb07dd13",
   "metadata": {},
   "outputs": [
    {
     "name": "stdout",
     "output_type": "stream",
     "text": [
      "             date         time         name size     type  price\n",
      "0      2015-01-01  09:00-12:00     hawaiian    M  classic  13.25\n",
      "1      2015-01-01  09:00-12:00  classic_dlx    M  classic  16.00\n",
      "2      2015-01-01  09:00-12:00     mexicana    M   veggie  16.00\n",
      "3      2015-01-01  09:00-12:00     thai_ckn    L  chicken  20.75\n",
      "4      2015-01-01  09:00-12:00  five_cheese    L   veggie  18.50\n",
      "...           ...          ...          ...  ...      ...    ...\n",
      "49569  2015-12-31  21:00-00:00  four_cheese    L   veggie  17.95\n",
      "49570  2015-12-31  21:00-00:00   napolitana    S  classic  12.00\n",
      "49571  2015-12-31  21:00-00:00  ckn_alfredo    M  chicken  16.75\n",
      "49572  2015-12-31  21:00-00:00     mexicana    L   veggie  20.25\n",
      "49573  2015-12-31  21:00-00:00      bbq_ckn    S  chicken  12.75\n",
      "\n",
      "[48620 rows x 6 columns]\n"
     ]
    }
   ],
   "source": [
    "# Caused to high of a variation when creating the processing pipeline, this data isn't needed for prediction so we drop the column\n",
    "\n",
    "pizza.drop('id', axis=1, inplace=True)\n",
    "print(pizza)"
   ]
  },
  {
   "cell_type": "markdown",
   "id": "d02397ca",
   "metadata": {},
   "source": [
    "### Create the pipeline and scale the data\n",
    "\n",
    "We want to scale our data so that it performs better with learning algorithms like SVM, K-NN, K-Mean, etc.\n",
    "\n",
    "We use StandardScaler for numerical columns and OneHotEncoder for categorical columns."
   ]
  },
  {
   "cell_type": "code",
   "execution_count": 13,
   "id": "6239b22d",
   "metadata": {},
   "outputs": [],
   "source": [
    "# Imports required for building the pipeline and scaling our data\n",
    "\n",
    "from sklearn.compose import ColumnTransformer\n",
    "from sklearn.pipeline import make_pipeline\n",
    "from sklearn.preprocessing import OneHotEncoder\n",
    "from sklearn.impute import SimpleImputer\n",
    "from sklearn.preprocessing import StandardScaler"
   ]
  },
  {
   "cell_type": "code",
   "execution_count": 14,
   "id": "e820c077",
   "metadata": {},
   "outputs": [],
   "source": [
    "# This snippet of code is adapted from section 4.3 in the end-to-end student notebook posted on eclass \n",
    "# and was written by Professor Ruba Al Omari\n",
    "\n",
    "# Select our columns for to use in the column transformer\n",
    "# num_cols is for numerical data columns and cat_cols is for categorical data colums\n",
    "num_cols = pizza.select_dtypes(include='number').columns.to_list()\n",
    "cat_cols = pizza.select_dtypes(exclude='number').columns.to_list()\n",
    "\n",
    "# 'price' is our target so we do not want to scale it\n",
    "# We remove it from the numerical columns list here\n",
    "num_cols.remove(\"price\")\n",
    "\n",
    "# Scale our numerical and categorical data\n",
    "num_pipeline = make_pipeline(SimpleImputer(strategy='mean'), StandardScaler())\n",
    "cat_pipeline = make_pipeline(SimpleImputer(strategy='most_frequent'), OneHotEncoder(sparse_output=False))\n",
    "\n",
    "# Use ColumnTransformer to set the estimators and transformations\n",
    "preprocessing = ColumnTransformer([('num', num_pipeline, num_cols),\n",
    "                                   ('cat', cat_pipeline, cat_cols)],\n",
    "                                    remainder='passthrough'\n",
    "                                 )"
   ]
  },
  {
   "cell_type": "code",
   "execution_count": 15,
   "id": "004231f7",
   "metadata": {},
   "outputs": [
    {
     "data": {
      "text/html": [
       "<style>#sk-container-id-1 {color: black;}#sk-container-id-1 pre{padding: 0;}#sk-container-id-1 div.sk-toggleable {background-color: white;}#sk-container-id-1 label.sk-toggleable__label {cursor: pointer;display: block;width: 100%;margin-bottom: 0;padding: 0.3em;box-sizing: border-box;text-align: center;}#sk-container-id-1 label.sk-toggleable__label-arrow:before {content: \"▸\";float: left;margin-right: 0.25em;color: #696969;}#sk-container-id-1 label.sk-toggleable__label-arrow:hover:before {color: black;}#sk-container-id-1 div.sk-estimator:hover label.sk-toggleable__label-arrow:before {color: black;}#sk-container-id-1 div.sk-toggleable__content {max-height: 0;max-width: 0;overflow: hidden;text-align: left;background-color: #f0f8ff;}#sk-container-id-1 div.sk-toggleable__content pre {margin: 0.2em;color: black;border-radius: 0.25em;background-color: #f0f8ff;}#sk-container-id-1 input.sk-toggleable__control:checked~div.sk-toggleable__content {max-height: 200px;max-width: 100%;overflow: auto;}#sk-container-id-1 input.sk-toggleable__control:checked~label.sk-toggleable__label-arrow:before {content: \"▾\";}#sk-container-id-1 div.sk-estimator input.sk-toggleable__control:checked~label.sk-toggleable__label {background-color: #d4ebff;}#sk-container-id-1 div.sk-label input.sk-toggleable__control:checked~label.sk-toggleable__label {background-color: #d4ebff;}#sk-container-id-1 input.sk-hidden--visually {border: 0;clip: rect(1px 1px 1px 1px);clip: rect(1px, 1px, 1px, 1px);height: 1px;margin: -1px;overflow: hidden;padding: 0;position: absolute;width: 1px;}#sk-container-id-1 div.sk-estimator {font-family: monospace;background-color: #f0f8ff;border: 1px dotted black;border-radius: 0.25em;box-sizing: border-box;margin-bottom: 0.5em;}#sk-container-id-1 div.sk-estimator:hover {background-color: #d4ebff;}#sk-container-id-1 div.sk-parallel-item::after {content: \"\";width: 100%;border-bottom: 1px solid gray;flex-grow: 1;}#sk-container-id-1 div.sk-label:hover label.sk-toggleable__label {background-color: #d4ebff;}#sk-container-id-1 div.sk-serial::before {content: \"\";position: absolute;border-left: 1px solid gray;box-sizing: border-box;top: 0;bottom: 0;left: 50%;z-index: 0;}#sk-container-id-1 div.sk-serial {display: flex;flex-direction: column;align-items: center;background-color: white;padding-right: 0.2em;padding-left: 0.2em;position: relative;}#sk-container-id-1 div.sk-item {position: relative;z-index: 1;}#sk-container-id-1 div.sk-parallel {display: flex;align-items: stretch;justify-content: center;background-color: white;position: relative;}#sk-container-id-1 div.sk-item::before, #sk-container-id-1 div.sk-parallel-item::before {content: \"\";position: absolute;border-left: 1px solid gray;box-sizing: border-box;top: 0;bottom: 0;left: 50%;z-index: -1;}#sk-container-id-1 div.sk-parallel-item {display: flex;flex-direction: column;z-index: 1;position: relative;background-color: white;}#sk-container-id-1 div.sk-parallel-item:first-child::after {align-self: flex-end;width: 50%;}#sk-container-id-1 div.sk-parallel-item:last-child::after {align-self: flex-start;width: 50%;}#sk-container-id-1 div.sk-parallel-item:only-child::after {width: 0;}#sk-container-id-1 div.sk-dashed-wrapped {border: 1px dashed gray;margin: 0 0.4em 0.5em 0.4em;box-sizing: border-box;padding-bottom: 0.4em;background-color: white;}#sk-container-id-1 div.sk-label label {font-family: monospace;font-weight: bold;display: inline-block;line-height: 1.2em;}#sk-container-id-1 div.sk-label-container {text-align: center;}#sk-container-id-1 div.sk-container {/* jupyter's `normalize.less` sets `[hidden] { display: none; }` but bootstrap.min.css set `[hidden] { display: none !important; }` so we also need the `!important` here to be able to override the default hidden behavior on the sphinx rendered scikit-learn.org. See: https://github.com/scikit-learn/scikit-learn/issues/21755 */display: inline-block !important;position: relative;}#sk-container-id-1 div.sk-text-repr-fallback {display: none;}</style><div id=\"sk-container-id-1\" class=\"sk-top-container\"><div class=\"sk-text-repr-fallback\"><pre>ColumnTransformer(remainder=&#x27;passthrough&#x27;,\n",
       "                  transformers=[(&#x27;num&#x27;,\n",
       "                                 Pipeline(steps=[(&#x27;simpleimputer&#x27;,\n",
       "                                                  SimpleImputer()),\n",
       "                                                 (&#x27;standardscaler&#x27;,\n",
       "                                                  StandardScaler())]),\n",
       "                                 []),\n",
       "                                (&#x27;cat&#x27;,\n",
       "                                 Pipeline(steps=[(&#x27;simpleimputer&#x27;,\n",
       "                                                  SimpleImputer(strategy=&#x27;most_frequent&#x27;)),\n",
       "                                                 (&#x27;onehotencoder&#x27;,\n",
       "                                                  OneHotEncoder(sparse_output=False))]),\n",
       "                                 [&#x27;date&#x27;, &#x27;time&#x27;, &#x27;name&#x27;, &#x27;size&#x27;, &#x27;type&#x27;])])</pre><b>In a Jupyter environment, please rerun this cell to show the HTML representation or trust the notebook. <br />On GitHub, the HTML representation is unable to render, please try loading this page with nbviewer.org.</b></div><div class=\"sk-container\" hidden><div class=\"sk-item sk-dashed-wrapped\"><div class=\"sk-label-container\"><div class=\"sk-label sk-toggleable\"><input class=\"sk-toggleable__control sk-hidden--visually\" id=\"sk-estimator-id-1\" type=\"checkbox\" ><label for=\"sk-estimator-id-1\" class=\"sk-toggleable__label sk-toggleable__label-arrow\">ColumnTransformer</label><div class=\"sk-toggleable__content\"><pre>ColumnTransformer(remainder=&#x27;passthrough&#x27;,\n",
       "                  transformers=[(&#x27;num&#x27;,\n",
       "                                 Pipeline(steps=[(&#x27;simpleimputer&#x27;,\n",
       "                                                  SimpleImputer()),\n",
       "                                                 (&#x27;standardscaler&#x27;,\n",
       "                                                  StandardScaler())]),\n",
       "                                 []),\n",
       "                                (&#x27;cat&#x27;,\n",
       "                                 Pipeline(steps=[(&#x27;simpleimputer&#x27;,\n",
       "                                                  SimpleImputer(strategy=&#x27;most_frequent&#x27;)),\n",
       "                                                 (&#x27;onehotencoder&#x27;,\n",
       "                                                  OneHotEncoder(sparse_output=False))]),\n",
       "                                 [&#x27;date&#x27;, &#x27;time&#x27;, &#x27;name&#x27;, &#x27;size&#x27;, &#x27;type&#x27;])])</pre></div></div></div><div class=\"sk-parallel\"><div class=\"sk-parallel-item\"><div class=\"sk-item\"><div class=\"sk-label-container\"><div class=\"sk-label sk-toggleable\"><input class=\"sk-toggleable__control sk-hidden--visually\" id=\"sk-estimator-id-2\" type=\"checkbox\" ><label for=\"sk-estimator-id-2\" class=\"sk-toggleable__label sk-toggleable__label-arrow\">num</label><div class=\"sk-toggleable__content\"><pre>[]</pre></div></div></div><div class=\"sk-serial\"><div class=\"sk-item\"><div class=\"sk-serial\"><div class=\"sk-item\"><div class=\"sk-estimator sk-toggleable\"><input class=\"sk-toggleable__control sk-hidden--visually\" id=\"sk-estimator-id-3\" type=\"checkbox\" ><label for=\"sk-estimator-id-3\" class=\"sk-toggleable__label sk-toggleable__label-arrow\">SimpleImputer</label><div class=\"sk-toggleable__content\"><pre>SimpleImputer()</pre></div></div></div><div class=\"sk-item\"><div class=\"sk-estimator sk-toggleable\"><input class=\"sk-toggleable__control sk-hidden--visually\" id=\"sk-estimator-id-4\" type=\"checkbox\" ><label for=\"sk-estimator-id-4\" class=\"sk-toggleable__label sk-toggleable__label-arrow\">StandardScaler</label><div class=\"sk-toggleable__content\"><pre>StandardScaler()</pre></div></div></div></div></div></div></div></div><div class=\"sk-parallel-item\"><div class=\"sk-item\"><div class=\"sk-label-container\"><div class=\"sk-label sk-toggleable\"><input class=\"sk-toggleable__control sk-hidden--visually\" id=\"sk-estimator-id-5\" type=\"checkbox\" ><label for=\"sk-estimator-id-5\" class=\"sk-toggleable__label sk-toggleable__label-arrow\">cat</label><div class=\"sk-toggleable__content\"><pre>[&#x27;date&#x27;, &#x27;time&#x27;, &#x27;name&#x27;, &#x27;size&#x27;, &#x27;type&#x27;]</pre></div></div></div><div class=\"sk-serial\"><div class=\"sk-item\"><div class=\"sk-serial\"><div class=\"sk-item\"><div class=\"sk-estimator sk-toggleable\"><input class=\"sk-toggleable__control sk-hidden--visually\" id=\"sk-estimator-id-6\" type=\"checkbox\" ><label for=\"sk-estimator-id-6\" class=\"sk-toggleable__label sk-toggleable__label-arrow\">SimpleImputer</label><div class=\"sk-toggleable__content\"><pre>SimpleImputer(strategy=&#x27;most_frequent&#x27;)</pre></div></div></div><div class=\"sk-item\"><div class=\"sk-estimator sk-toggleable\"><input class=\"sk-toggleable__control sk-hidden--visually\" id=\"sk-estimator-id-7\" type=\"checkbox\" ><label for=\"sk-estimator-id-7\" class=\"sk-toggleable__label sk-toggleable__label-arrow\">OneHotEncoder</label><div class=\"sk-toggleable__content\"><pre>OneHotEncoder(sparse_output=False)</pre></div></div></div></div></div></div></div></div><div class=\"sk-parallel-item\"><div class=\"sk-item\"><div class=\"sk-label-container\"><div class=\"sk-label sk-toggleable\"><input class=\"sk-toggleable__control sk-hidden--visually\" id=\"sk-estimator-id-8\" type=\"checkbox\" ><label for=\"sk-estimator-id-8\" class=\"sk-toggleable__label sk-toggleable__label-arrow\">remainder</label><div class=\"sk-toggleable__content\"><pre></pre></div></div></div><div class=\"sk-serial\"><div class=\"sk-item\"><div class=\"sk-estimator sk-toggleable\"><input class=\"sk-toggleable__control sk-hidden--visually\" id=\"sk-estimator-id-9\" type=\"checkbox\" ><label for=\"sk-estimator-id-9\" class=\"sk-toggleable__label sk-toggleable__label-arrow\">passthrough</label><div class=\"sk-toggleable__content\"><pre>passthrough</pre></div></div></div></div></div></div></div></div></div></div>"
      ],
      "text/plain": [
       "ColumnTransformer(remainder='passthrough',\n",
       "                  transformers=[('num',\n",
       "                                 Pipeline(steps=[('simpleimputer',\n",
       "                                                  SimpleImputer()),\n",
       "                                                 ('standardscaler',\n",
       "                                                  StandardScaler())]),\n",
       "                                 []),\n",
       "                                ('cat',\n",
       "                                 Pipeline(steps=[('simpleimputer',\n",
       "                                                  SimpleImputer(strategy='most_frequent')),\n",
       "                                                 ('onehotencoder',\n",
       "                                                  OneHotEncoder(sparse_output=False))]),\n",
       "                                 ['date', 'time', 'name', 'size', 'type'])])"
      ]
     },
     "execution_count": 15,
     "metadata": {},
     "output_type": "execute_result"
    }
   ],
   "source": [
    "# Show our preprocessing pipeline\n",
    "preprocessing"
   ]
  },
  {
   "cell_type": "code",
   "execution_count": 16,
   "id": "17753c8a",
   "metadata": {},
   "outputs": [
    {
     "data": {
      "text/html": [
       "<div>\n",
       "<style scoped>\n",
       "    .dataframe tbody tr th:only-of-type {\n",
       "        vertical-align: middle;\n",
       "    }\n",
       "\n",
       "    .dataframe tbody tr th {\n",
       "        vertical-align: top;\n",
       "    }\n",
       "\n",
       "    .dataframe thead th {\n",
       "        text-align: right;\n",
       "    }\n",
       "</style>\n",
       "<table border=\"1\" class=\"dataframe\">\n",
       "  <thead>\n",
       "    <tr style=\"text-align: right;\">\n",
       "      <th></th>\n",
       "      <th>cat__date_2015-01-01</th>\n",
       "      <th>cat__date_2015-01-02</th>\n",
       "      <th>cat__date_2015-01-03</th>\n",
       "      <th>cat__date_2015-01-04</th>\n",
       "      <th>cat__date_2015-01-05</th>\n",
       "      <th>cat__date_2015-01-06</th>\n",
       "      <th>cat__date_2015-01-07</th>\n",
       "      <th>cat__date_2015-01-08</th>\n",
       "      <th>cat__date_2015-01-09</th>\n",
       "      <th>cat__date_2015-01-10</th>\n",
       "      <th>...</th>\n",
       "      <th>cat__size_L</th>\n",
       "      <th>cat__size_M</th>\n",
       "      <th>cat__size_S</th>\n",
       "      <th>cat__size_XL</th>\n",
       "      <th>cat__size_XXL</th>\n",
       "      <th>cat__type_chicken</th>\n",
       "      <th>cat__type_classic</th>\n",
       "      <th>cat__type_supreme</th>\n",
       "      <th>cat__type_veggie</th>\n",
       "      <th>remainder__price</th>\n",
       "    </tr>\n",
       "  </thead>\n",
       "  <tbody>\n",
       "    <tr>\n",
       "      <th>0</th>\n",
       "      <td>1.0</td>\n",
       "      <td>0.0</td>\n",
       "      <td>0.0</td>\n",
       "      <td>0.0</td>\n",
       "      <td>0.0</td>\n",
       "      <td>0.0</td>\n",
       "      <td>0.0</td>\n",
       "      <td>0.0</td>\n",
       "      <td>0.0</td>\n",
       "      <td>0.0</td>\n",
       "      <td>...</td>\n",
       "      <td>0.0</td>\n",
       "      <td>1.0</td>\n",
       "      <td>0.0</td>\n",
       "      <td>0.0</td>\n",
       "      <td>0.0</td>\n",
       "      <td>0.0</td>\n",
       "      <td>1.0</td>\n",
       "      <td>0.0</td>\n",
       "      <td>0.0</td>\n",
       "      <td>13.25</td>\n",
       "    </tr>\n",
       "    <tr>\n",
       "      <th>1</th>\n",
       "      <td>1.0</td>\n",
       "      <td>0.0</td>\n",
       "      <td>0.0</td>\n",
       "      <td>0.0</td>\n",
       "      <td>0.0</td>\n",
       "      <td>0.0</td>\n",
       "      <td>0.0</td>\n",
       "      <td>0.0</td>\n",
       "      <td>0.0</td>\n",
       "      <td>0.0</td>\n",
       "      <td>...</td>\n",
       "      <td>0.0</td>\n",
       "      <td>1.0</td>\n",
       "      <td>0.0</td>\n",
       "      <td>0.0</td>\n",
       "      <td>0.0</td>\n",
       "      <td>0.0</td>\n",
       "      <td>1.0</td>\n",
       "      <td>0.0</td>\n",
       "      <td>0.0</td>\n",
       "      <td>16.00</td>\n",
       "    </tr>\n",
       "    <tr>\n",
       "      <th>2</th>\n",
       "      <td>1.0</td>\n",
       "      <td>0.0</td>\n",
       "      <td>0.0</td>\n",
       "      <td>0.0</td>\n",
       "      <td>0.0</td>\n",
       "      <td>0.0</td>\n",
       "      <td>0.0</td>\n",
       "      <td>0.0</td>\n",
       "      <td>0.0</td>\n",
       "      <td>0.0</td>\n",
       "      <td>...</td>\n",
       "      <td>0.0</td>\n",
       "      <td>1.0</td>\n",
       "      <td>0.0</td>\n",
       "      <td>0.0</td>\n",
       "      <td>0.0</td>\n",
       "      <td>0.0</td>\n",
       "      <td>0.0</td>\n",
       "      <td>0.0</td>\n",
       "      <td>1.0</td>\n",
       "      <td>16.00</td>\n",
       "    </tr>\n",
       "    <tr>\n",
       "      <th>3</th>\n",
       "      <td>1.0</td>\n",
       "      <td>0.0</td>\n",
       "      <td>0.0</td>\n",
       "      <td>0.0</td>\n",
       "      <td>0.0</td>\n",
       "      <td>0.0</td>\n",
       "      <td>0.0</td>\n",
       "      <td>0.0</td>\n",
       "      <td>0.0</td>\n",
       "      <td>0.0</td>\n",
       "      <td>...</td>\n",
       "      <td>1.0</td>\n",
       "      <td>0.0</td>\n",
       "      <td>0.0</td>\n",
       "      <td>0.0</td>\n",
       "      <td>0.0</td>\n",
       "      <td>1.0</td>\n",
       "      <td>0.0</td>\n",
       "      <td>0.0</td>\n",
       "      <td>0.0</td>\n",
       "      <td>20.75</td>\n",
       "    </tr>\n",
       "    <tr>\n",
       "      <th>4</th>\n",
       "      <td>1.0</td>\n",
       "      <td>0.0</td>\n",
       "      <td>0.0</td>\n",
       "      <td>0.0</td>\n",
       "      <td>0.0</td>\n",
       "      <td>0.0</td>\n",
       "      <td>0.0</td>\n",
       "      <td>0.0</td>\n",
       "      <td>0.0</td>\n",
       "      <td>0.0</td>\n",
       "      <td>...</td>\n",
       "      <td>1.0</td>\n",
       "      <td>0.0</td>\n",
       "      <td>0.0</td>\n",
       "      <td>0.0</td>\n",
       "      <td>0.0</td>\n",
       "      <td>0.0</td>\n",
       "      <td>0.0</td>\n",
       "      <td>0.0</td>\n",
       "      <td>1.0</td>\n",
       "      <td>18.50</td>\n",
       "    </tr>\n",
       "    <tr>\n",
       "      <th>...</th>\n",
       "      <td>...</td>\n",
       "      <td>...</td>\n",
       "      <td>...</td>\n",
       "      <td>...</td>\n",
       "      <td>...</td>\n",
       "      <td>...</td>\n",
       "      <td>...</td>\n",
       "      <td>...</td>\n",
       "      <td>...</td>\n",
       "      <td>...</td>\n",
       "      <td>...</td>\n",
       "      <td>...</td>\n",
       "      <td>...</td>\n",
       "      <td>...</td>\n",
       "      <td>...</td>\n",
       "      <td>...</td>\n",
       "      <td>...</td>\n",
       "      <td>...</td>\n",
       "      <td>...</td>\n",
       "      <td>...</td>\n",
       "      <td>...</td>\n",
       "    </tr>\n",
       "    <tr>\n",
       "      <th>48615</th>\n",
       "      <td>0.0</td>\n",
       "      <td>0.0</td>\n",
       "      <td>0.0</td>\n",
       "      <td>0.0</td>\n",
       "      <td>0.0</td>\n",
       "      <td>0.0</td>\n",
       "      <td>0.0</td>\n",
       "      <td>0.0</td>\n",
       "      <td>0.0</td>\n",
       "      <td>0.0</td>\n",
       "      <td>...</td>\n",
       "      <td>1.0</td>\n",
       "      <td>0.0</td>\n",
       "      <td>0.0</td>\n",
       "      <td>0.0</td>\n",
       "      <td>0.0</td>\n",
       "      <td>0.0</td>\n",
       "      <td>0.0</td>\n",
       "      <td>0.0</td>\n",
       "      <td>1.0</td>\n",
       "      <td>17.95</td>\n",
       "    </tr>\n",
       "    <tr>\n",
       "      <th>48616</th>\n",
       "      <td>0.0</td>\n",
       "      <td>0.0</td>\n",
       "      <td>0.0</td>\n",
       "      <td>0.0</td>\n",
       "      <td>0.0</td>\n",
       "      <td>0.0</td>\n",
       "      <td>0.0</td>\n",
       "      <td>0.0</td>\n",
       "      <td>0.0</td>\n",
       "      <td>0.0</td>\n",
       "      <td>...</td>\n",
       "      <td>0.0</td>\n",
       "      <td>0.0</td>\n",
       "      <td>1.0</td>\n",
       "      <td>0.0</td>\n",
       "      <td>0.0</td>\n",
       "      <td>0.0</td>\n",
       "      <td>1.0</td>\n",
       "      <td>0.0</td>\n",
       "      <td>0.0</td>\n",
       "      <td>12.00</td>\n",
       "    </tr>\n",
       "    <tr>\n",
       "      <th>48617</th>\n",
       "      <td>0.0</td>\n",
       "      <td>0.0</td>\n",
       "      <td>0.0</td>\n",
       "      <td>0.0</td>\n",
       "      <td>0.0</td>\n",
       "      <td>0.0</td>\n",
       "      <td>0.0</td>\n",
       "      <td>0.0</td>\n",
       "      <td>0.0</td>\n",
       "      <td>0.0</td>\n",
       "      <td>...</td>\n",
       "      <td>0.0</td>\n",
       "      <td>1.0</td>\n",
       "      <td>0.0</td>\n",
       "      <td>0.0</td>\n",
       "      <td>0.0</td>\n",
       "      <td>1.0</td>\n",
       "      <td>0.0</td>\n",
       "      <td>0.0</td>\n",
       "      <td>0.0</td>\n",
       "      <td>16.75</td>\n",
       "    </tr>\n",
       "    <tr>\n",
       "      <th>48618</th>\n",
       "      <td>0.0</td>\n",
       "      <td>0.0</td>\n",
       "      <td>0.0</td>\n",
       "      <td>0.0</td>\n",
       "      <td>0.0</td>\n",
       "      <td>0.0</td>\n",
       "      <td>0.0</td>\n",
       "      <td>0.0</td>\n",
       "      <td>0.0</td>\n",
       "      <td>0.0</td>\n",
       "      <td>...</td>\n",
       "      <td>1.0</td>\n",
       "      <td>0.0</td>\n",
       "      <td>0.0</td>\n",
       "      <td>0.0</td>\n",
       "      <td>0.0</td>\n",
       "      <td>0.0</td>\n",
       "      <td>0.0</td>\n",
       "      <td>0.0</td>\n",
       "      <td>1.0</td>\n",
       "      <td>20.25</td>\n",
       "    </tr>\n",
       "    <tr>\n",
       "      <th>48619</th>\n",
       "      <td>0.0</td>\n",
       "      <td>0.0</td>\n",
       "      <td>0.0</td>\n",
       "      <td>0.0</td>\n",
       "      <td>0.0</td>\n",
       "      <td>0.0</td>\n",
       "      <td>0.0</td>\n",
       "      <td>0.0</td>\n",
       "      <td>0.0</td>\n",
       "      <td>0.0</td>\n",
       "      <td>...</td>\n",
       "      <td>0.0</td>\n",
       "      <td>0.0</td>\n",
       "      <td>1.0</td>\n",
       "      <td>0.0</td>\n",
       "      <td>0.0</td>\n",
       "      <td>1.0</td>\n",
       "      <td>0.0</td>\n",
       "      <td>0.0</td>\n",
       "      <td>0.0</td>\n",
       "      <td>12.75</td>\n",
       "    </tr>\n",
       "  </tbody>\n",
       "</table>\n",
       "<p>48620 rows × 405 columns</p>\n",
       "</div>"
      ],
      "text/plain": [
       "       cat__date_2015-01-01  cat__date_2015-01-02  cat__date_2015-01-03  \\\n",
       "0                       1.0                   0.0                   0.0   \n",
       "1                       1.0                   0.0                   0.0   \n",
       "2                       1.0                   0.0                   0.0   \n",
       "3                       1.0                   0.0                   0.0   \n",
       "4                       1.0                   0.0                   0.0   \n",
       "...                     ...                   ...                   ...   \n",
       "48615                   0.0                   0.0                   0.0   \n",
       "48616                   0.0                   0.0                   0.0   \n",
       "48617                   0.0                   0.0                   0.0   \n",
       "48618                   0.0                   0.0                   0.0   \n",
       "48619                   0.0                   0.0                   0.0   \n",
       "\n",
       "       cat__date_2015-01-04  cat__date_2015-01-05  cat__date_2015-01-06  \\\n",
       "0                       0.0                   0.0                   0.0   \n",
       "1                       0.0                   0.0                   0.0   \n",
       "2                       0.0                   0.0                   0.0   \n",
       "3                       0.0                   0.0                   0.0   \n",
       "4                       0.0                   0.0                   0.0   \n",
       "...                     ...                   ...                   ...   \n",
       "48615                   0.0                   0.0                   0.0   \n",
       "48616                   0.0                   0.0                   0.0   \n",
       "48617                   0.0                   0.0                   0.0   \n",
       "48618                   0.0                   0.0                   0.0   \n",
       "48619                   0.0                   0.0                   0.0   \n",
       "\n",
       "       cat__date_2015-01-07  cat__date_2015-01-08  cat__date_2015-01-09  \\\n",
       "0                       0.0                   0.0                   0.0   \n",
       "1                       0.0                   0.0                   0.0   \n",
       "2                       0.0                   0.0                   0.0   \n",
       "3                       0.0                   0.0                   0.0   \n",
       "4                       0.0                   0.0                   0.0   \n",
       "...                     ...                   ...                   ...   \n",
       "48615                   0.0                   0.0                   0.0   \n",
       "48616                   0.0                   0.0                   0.0   \n",
       "48617                   0.0                   0.0                   0.0   \n",
       "48618                   0.0                   0.0                   0.0   \n",
       "48619                   0.0                   0.0                   0.0   \n",
       "\n",
       "       cat__date_2015-01-10  ...  cat__size_L  cat__size_M  cat__size_S  \\\n",
       "0                       0.0  ...          0.0          1.0          0.0   \n",
       "1                       0.0  ...          0.0          1.0          0.0   \n",
       "2                       0.0  ...          0.0          1.0          0.0   \n",
       "3                       0.0  ...          1.0          0.0          0.0   \n",
       "4                       0.0  ...          1.0          0.0          0.0   \n",
       "...                     ...  ...          ...          ...          ...   \n",
       "48615                   0.0  ...          1.0          0.0          0.0   \n",
       "48616                   0.0  ...          0.0          0.0          1.0   \n",
       "48617                   0.0  ...          0.0          1.0          0.0   \n",
       "48618                   0.0  ...          1.0          0.0          0.0   \n",
       "48619                   0.0  ...          0.0          0.0          1.0   \n",
       "\n",
       "       cat__size_XL  cat__size_XXL  cat__type_chicken  cat__type_classic  \\\n",
       "0               0.0            0.0                0.0                1.0   \n",
       "1               0.0            0.0                0.0                1.0   \n",
       "2               0.0            0.0                0.0                0.0   \n",
       "3               0.0            0.0                1.0                0.0   \n",
       "4               0.0            0.0                0.0                0.0   \n",
       "...             ...            ...                ...                ...   \n",
       "48615           0.0            0.0                0.0                0.0   \n",
       "48616           0.0            0.0                0.0                1.0   \n",
       "48617           0.0            0.0                1.0                0.0   \n",
       "48618           0.0            0.0                0.0                0.0   \n",
       "48619           0.0            0.0                1.0                0.0   \n",
       "\n",
       "       cat__type_supreme  cat__type_veggie  remainder__price  \n",
       "0                    0.0               0.0             13.25  \n",
       "1                    0.0               0.0             16.00  \n",
       "2                    0.0               1.0             16.00  \n",
       "3                    0.0               0.0             20.75  \n",
       "4                    0.0               1.0             18.50  \n",
       "...                  ...               ...               ...  \n",
       "48615                0.0               1.0             17.95  \n",
       "48616                0.0               0.0             12.00  \n",
       "48617                0.0               0.0             16.75  \n",
       "48618                0.0               1.0             20.25  \n",
       "48619                0.0               0.0             12.75  \n",
       "\n",
       "[48620 rows x 405 columns]"
      ]
     },
     "execution_count": 16,
     "metadata": {},
     "output_type": "execute_result"
    }
   ],
   "source": [
    "# Apply the preprocessing pipeline on the dataset\n",
    "\n",
    "pizza_prepared = preprocessing.fit_transform(pizza)\n",
    "\n",
    "feature_names=preprocessing.get_feature_names_out()\n",
    "pizza_prepared = pd.DataFrame(data=pizza_prepared, columns=feature_names)\n",
    "\n",
    "pizza_prepared"
   ]
  },
  {
   "cell_type": "markdown",
   "id": "e8b3d9fd",
   "metadata": {},
   "source": [
    "# Task 5: Train and evaluate three machine learning algorithms "
   ]
  },
  {
   "cell_type": "markdown",
   "id": "eec2cd35",
   "metadata": {},
   "source": [
    "## Split the data into test and training groups"
   ]
  },
  {
   "cell_type": "code",
   "execution_count": 17,
   "id": "274a799b",
   "metadata": {},
   "outputs": [
    {
     "name": "stdout",
     "output_type": "stream",
     "text": [
      "(38896, 404) (38896,) (9724, 404) (9724,)\n"
     ]
    }
   ],
   "source": [
    "from sklearn.model_selection import train_test_split\n",
    "\n",
    "# We remove our target attribute from the data set so that it can be given to the model seperately during training and test\n",
    "X = pizza_prepared.drop([\"remainder__price\"], axis=1)\n",
    "y = pizza_prepared[\"remainder__price\"]\n",
    "\n",
    "# Get our test and training values\n",
    "X_train, X_test, y_train, y_test = train_test_split(X, y, test_size=0.2, random_state=42)\n",
    "print(X_train.shape, y_train.shape, X_test.shape, y_test.shape)"
   ]
  },
  {
   "cell_type": "markdown",
   "id": "0ca61b0a",
   "metadata": {},
   "source": [
    "## Performance Metric Imports"
   ]
  },
  {
   "cell_type": "code",
   "execution_count": 18,
   "id": "33625f14",
   "metadata": {},
   "outputs": [],
   "source": [
    "from sklearn.metrics import mean_squared_error as mse\n",
    "from sklearn.metrics import r2_score\n",
    "from sklearn.metrics import mean_absolute_error as mae"
   ]
  },
  {
   "cell_type": "markdown",
   "id": "5200f702",
   "metadata": {},
   "source": [
    "## Model 1: Linear regression model with lasso regularization"
   ]
  },
  {
   "cell_type": "code",
   "execution_count": 19,
   "id": "2314fe7a",
   "metadata": {},
   "outputs": [],
   "source": [
    "# This snippet of code is adapted from sections 5.5 in the end-to-end student notebook posted on eclass \n",
    "# and was written by Professor Ruba Al Omari\n",
    "from sklearn.linear_model import Lasso\n",
    "from sklearn.model_selection import cross_val_score\n",
    "\n",
    "# Create the model\n",
    "LassoRegression = Lasso(alpha=1)\n",
    "lasso_model = LassoRegression.fit(X_train, y_train)\n",
    "\n",
    "# Test the model\n",
    "Lasso_y_predict = lasso_model.predict(X_test)\n",
    "\n",
    "# Get our metric scores\n",
    "lasso_r2 = r2_score(y_test, Lasso_y_predict)\n",
    "lasso_mae = mae(y_test, Lasso_y_predict)\n",
    "lasso_mse = mse(y_test, Lasso_y_predict)"
   ]
  },
  {
   "cell_type": "markdown",
   "id": "0832edba",
   "metadata": {},
   "source": [
    "## Model 2: Linear regression with ridge regularization"
   ]
  },
  {
   "cell_type": "code",
   "execution_count": 20,
   "id": "fbe8a4aa",
   "metadata": {},
   "outputs": [],
   "source": [
    "# This snippet of code is adapted from section 5.5 in the end-to-end student notebook posted on eclass \n",
    "# and was written by Professor Ruba Al Omari\n",
    "\n",
    "from sklearn.linear_model import Ridge\n",
    "\n",
    "# Train the model\n",
    "RidgeRegression = Ridge(alpha=1)\n",
    "ridge_model = RidgeRegression.fit(X_train, y_train)\n",
    "\n",
    "# Test the model\n",
    "Ridge_y_predict = ridge_model.predict(X_test)\n",
    "\n",
    "# Get our metric scores\n",
    "ridge_r2 = r2_score(y_test, Ridge_y_predict)\n",
    "ridge_mae = mae(y_test, Ridge_y_predict)\n",
    "ridge_mse = mse(y_test, Ridge_y_predict)"
   ]
  },
  {
   "cell_type": "markdown",
   "id": "950cb274",
   "metadata": {},
   "source": [
    "## Model 3: Support Vector Regression (SVR)"
   ]
  },
  {
   "cell_type": "code",
   "execution_count": 21,
   "id": "ccf124cb",
   "metadata": {},
   "outputs": [],
   "source": [
    "from sklearn.model_selection import GridSearchCV\n",
    "from sklearn.svm import SVR\n",
    "\n",
    "# Create an SVR model\n",
    "svr_model = SVR()\n",
    "#svr_pizza = SVR().fit(X_train, y_train)\n",
    "svr_model.fit(X_train[:10000], y_train[:10000].values.ravel())\n",
    "# Create the GridSearchCV object\n",
    "\n",
    "#Predicting on the test set\n",
    "y_predict = svr_model.predict(X_test)\n",
    "# Calculate Mean Squared Error (MSE)\n",
    "mean_squared_error = mse(y_test, y_predict)\n",
    "\n",
    "\n",
    "# Calculate R-squared\n",
    "r_squared = r2_score(y_test, y_predict)\n",
    "\n",
    "# Calculate Mean Absolute Error\n",
    "mean_aboslute_error = mae(y_test, y_predict)"
   ]
  },
  {
   "cell_type": "markdown",
   "id": "3cbdfb06",
   "metadata": {},
   "source": [
    "## Evaluation Metrics and Performance Comparison Table"
   ]
  },
  {
   "cell_type": "markdown",
   "id": "3efe7857",
   "metadata": {},
   "source": [
    "### Evaluation Metrics\n",
    "\n",
    "   1. R^2 Score - R^2 regression score function\n",
    "   2. Mean Absolute Error - Average difference between the predicted values and actual values\n",
    "   3. Mean Squared Error - Average difference between squared estimated values and actual values\n",
    "\n",
    "These three metrics cover a good range of performance measurements to evaluate our models on. R^2 score gives us the average regression score. Mean absolute error shows us the difference/the size of the errors between the models' predictions and the actual values. Mean squared error helps us evaluate the performance of the model with large prediction differences/errors that mean absolute won't catch."
   ]
  },
  {
   "cell_type": "markdown",
   "id": "db55952b",
   "metadata": {},
   "source": [
    "### Performance Comparison Table"
   ]
  },
  {
   "cell_type": "code",
   "execution_count": 22,
   "id": "8680724f",
   "metadata": {},
   "outputs": [
    {
     "name": "stdout",
     "output_type": "stream",
     "text": [
      "Model                                           r2 Score    MAE       MSE\n",
      "-----------------------------------------------------------------------------\n",
      "Linear Regression with lasso regularization     0.23258     2.56592   10.1275\n",
      "Linear regression with ridge regularization     0.99153     0.20741   0.11180\n",
      "Support Vector Regression (SVR)                 0.98408     0.10687   0.21007\n"
     ]
    }
   ],
   "source": [
    "print(\"Model                                           r2 Score    MAE       MSE\")\n",
    "print(\"-----------------------------------------------------------------------------\")\n",
    "print(f\"Linear Regression with lasso regularization     {lasso_r2:.5f}     {lasso_mae:.5f}   {lasso_mse:.4f}\")\n",
    "print(f\"Linear regression with ridge regularization     {ridge_r2:.5f}     {ridge_mae:.5f}   {ridge_mse:.5f}\")\n",
    "print(f\"Support Vector Regression (SVR)                 {r_squared:.5f}     {mean_aboslute_error:.5f}   {mean_squared_error:.5f}\")"
   ]
  },
  {
   "cell_type": "markdown",
   "id": "92e5afaa",
   "metadata": {},
   "source": [
    "### Best Performing Algorithm"
   ]
  },
  {
   "cell_type": "markdown",
   "id": "99eee11c",
   "metadata": {},
   "source": [
    "Based on the score in the performance comparison table Linear Regression with ridge regularization is our best-performing algorithm. This is because it holds the best score for all three metrics. For r2 Score, a score closer to 1.0 indicates better performance, in our case Linear Regression with ridge regularization scored closest to 1.0. For MAE and MSE the lower the score the better because these metrics measure error size. For these Linear Regression with ridge regularization had the best performance on MSE and the second best performance on MAE. Linear regression with ridge regularization and support vector regression were close in performance ridge regression holds more highly ranked metrics. Based on this evaluation we believe it to be our best-performing algorithm."
   ]
  },
  {
   "cell_type": "markdown",
   "id": "8f19eaa2",
   "metadata": {},
   "source": [
    "# Task 6: Graphs for the best-performing algorithm"
   ]
  },
  {
   "cell_type": "markdown",
   "id": "f69601ca",
   "metadata": {},
   "source": [
    "## Scatter plot showing the predicted prices vs actual prices"
   ]
  },
  {
   "cell_type": "code",
   "execution_count": 23,
   "id": "7f254a4e",
   "metadata": {},
   "outputs": [
    {
     "data": {
      "image/png": "[encoded data removed]",
      "text/plain": [
       "<Figure size 1000x1000 with 1 Axes>"
      ]
     },
     "metadata": {},
     "output_type": "display_data"
    }
   ],
   "source": [
    "# Scatter plot predicted values vs actual values\n",
    "\n",
    "plt.figure(figsize=(10, 10))\n",
    "\n",
    "plt.scatter(Ridge_y_predict, y_test, c = 'green')\n",
    "plt.plot(y_test, y_test, c = 'orange', alpha = 0.5)\n",
    "plt.title('Predicted Values vs Actual Values')\n",
    "plt.ylabel('Actual Values')\n",
    "plt.xlabel('Predicted Values')\n",
    "plt.legend(['Predicted', 'Actual'])\n",
    "plt.show()"
   ]
  },
  {
   "cell_type": "markdown",
   "id": "7c93138b",
   "metadata": {},
   "source": [
    "This graph lets us see how well our model performed compared to the actual price values. "
   ]
  },
  {
   "cell_type": "markdown",
   "id": "5d69cd13",
   "metadata": {},
   "source": [
    "## Histogram showing the deviation in errors from the model"
   ]
  },
  {
   "cell_type": "code",
   "execution_count": 24,
   "id": "a1a3a53b",
   "metadata": {},
   "outputs": [
    {
     "data": {
      "text/plain": [
       "Text(0.5, 0, 'Deviation')"
      ]
     },
     "execution_count": 24,
     "metadata": {},
     "output_type": "execute_result"
    },
    {
     "data": {
      "image/png": "[encoded data removed]",
      "text/plain": [
       "<Figure size 640x480 with 1 Axes>"
      ]
     },
     "metadata": {},
     "output_type": "display_data"
    }
   ],
   "source": [
    "# Histogram showing deviation in predictions and actual values\n",
    "\n",
    "# Get the residuals by finding the difference between the actual and predicted costs\n",
    "resid = (y_test - Ridge_y_predict)\n",
    "sns.histplot(resid)\n",
    "plt.title('Residuals - Deviation in Predictions and Actual')\n",
    "plt.ylabel('Count')\n",
    "plt.xlabel('Deviation')"
   ]
  },
  {
   "cell_type": "markdown",
   "id": "bff41635",
   "metadata": {},
   "source": [
    "This graph helps us determine if our model is biased. We should be seeing a bell curve, however we don't so there is some refining that should be done."
   ]
  },
  {
   "cell_type": "markdown",
   "id": "6c3c2d6a",
   "metadata": {},
   "source": [
    "## Scatter plot comparing our two best performing models"
   ]
  },
  {
   "cell_type": "code",
   "execution_count": 25,
   "id": "e307342c",
   "metadata": {},
   "outputs": [
    {
     "data": {
      "image/png": "[encoded data removed]",
      "text/plain": [
       "<Figure size 1000x1000 with 1 Axes>"
      ]
     },
     "metadata": {},
     "output_type": "display_data"
    }
   ],
   "source": [
    "# Scatter plot ridge vs svr\n",
    "\n",
    "plt.figure(figsize=(10, 10))\n",
    "\n",
    "plt.scatter(Ridge_y_predict, y_test, c = 'green')\n",
    "plt.scatter(y_predict, y_test, c = 'red')\n",
    "plt.title('Ridge vs SVR')\n",
    "plt.ylabel('Actual Values')\n",
    "plt.xlabel('Predicted Values')\n",
    "plt.legend(['Ridge', 'SVR'])\n",
    "plt.show()"
   ]
  },
  {
   "cell_type": "markdown",
   "id": "cd8c91b1",
   "metadata": {},
   "source": [
    "This lets us see the difference in performance between our two best models. Since they had similar performace in our test metrics we want to get a better look at both their predictions through data visualization."
   ]
  }
 ],
 "metadata": {
  "kernelspec": {
   "display_name": "Python 3 (ipykernel)",
   "language": "python",
   "name": "python3"
  },
  "language_info": {
   "codemirror_mode": {
    "name": "ipython",
    "version": 3
   },
   "file_extension": ".py",
   "mimetype": "text/x-python",
   "name": "python",
   "nbconvert_exporter": "python",
   "pygments_lexer": "ipython3",
   "version": "3.11.5"
  }
 },
 "nbformat": 4,
 "nbformat_minor": 5
}
